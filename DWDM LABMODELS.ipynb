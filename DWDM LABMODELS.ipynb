{
 "cells": [
  {
   "cell_type": "code",
   "execution_count": 1,
   "metadata": {
    "executionInfo": {
     "elapsed": 2391,
     "status": "ok",
     "timestamp": 1617384339076,
     "user": {
      "displayName": "Rohindh R",
      "photoUrl": "https://lh3.googleusercontent.com/a-/AOh14Gjl5IxCapIXaw6ej8DKrFGMmXStnbvlPcs_VxASBw=s64",
      "userId": "04332029639624835530"
     },
     "user_tz": -330
    },
    "id": "m0NWc-rhnjEw"
   },
   "outputs": [],
   "source": [
    "import pandas as pd\n",
    "from sklearn.tree import DecisionTreeClassifier\n",
    "from sklearn.model_selection import train_test_split\n",
    "from sklearn import metrics"
   ]
  },
  {
   "cell_type": "code",
   "execution_count": 2,
   "metadata": {
    "executionInfo": {
     "elapsed": 1814,
     "status": "ok",
     "timestamp": 1617384671258,
     "user": {
      "displayName": "Rohindh R",
      "photoUrl": "https://lh3.googleusercontent.com/a-/AOh14Gjl5IxCapIXaw6ej8DKrFGMmXStnbvlPcs_VxASBw=s64",
      "userId": "04332029639624835530"
     },
     "user_tz": -330
    },
    "id": "OK_J7gBbnjE4"
   },
   "outputs": [],
   "source": [
    "col_names = ['pregnant', 'glucose', 'bp', 'skin', 'insulin', 'bmi', 'pedigree', 'age', 'label']\n",
    "\n",
    "df = pd.read_csv(\"https://filebin.net/w614974oe7frfylz/diabetes.csv?t=592415ln\", header=None, names=col_names)"
   ]
  },
  {
   "cell_type": "code",
   "execution_count": 3,
   "metadata": {
    "colab": {
     "base_uri": "https://localhost:8080/",
     "height": 195
    },
    "executionInfo": {
     "elapsed": 1146,
     "status": "ok",
     "timestamp": 1617384673028,
     "user": {
      "displayName": "Rohindh R",
      "photoUrl": "https://lh3.googleusercontent.com/a-/AOh14Gjl5IxCapIXaw6ej8DKrFGMmXStnbvlPcs_VxASBw=s64",
      "userId": "04332029639624835530"
     },
     "user_tz": -330
    },
    "id": "rAsdrgQknjE5",
    "outputId": "b31443d1-f07c-417b-fcc8-1eb434f588e3"
   },
   "outputs": [
    {
     "data": {
      "text/html": [
       "<div>\n",
       "<style scoped>\n",
       "    .dataframe tbody tr th:only-of-type {\n",
       "        vertical-align: middle;\n",
       "    }\n",
       "\n",
       "    .dataframe tbody tr th {\n",
       "        vertical-align: top;\n",
       "    }\n",
       "\n",
       "    .dataframe thead th {\n",
       "        text-align: right;\n",
       "    }\n",
       "</style>\n",
       "<table border=\"1\" class=\"dataframe\">\n",
       "  <thead>\n",
       "    <tr style=\"text-align: right;\">\n",
       "      <th></th>\n",
       "      <th>pregnant</th>\n",
       "      <th>glucose</th>\n",
       "      <th>bp</th>\n",
       "      <th>skin</th>\n",
       "      <th>insulin</th>\n",
       "      <th>bmi</th>\n",
       "      <th>pedigree</th>\n",
       "      <th>age</th>\n",
       "      <th>label</th>\n",
       "    </tr>\n",
       "  </thead>\n",
       "  <tbody>\n",
       "    <tr>\n",
       "      <th>0</th>\n",
       "      <td>&lt;!DOCTYPE html&gt;</td>\n",
       "      <td>NaN</td>\n",
       "      <td>NaN</td>\n",
       "      <td>NaN</td>\n",
       "      <td>NaN</td>\n",
       "      <td>NaN</td>\n",
       "      <td>NaN</td>\n",
       "      <td>NaN</td>\n",
       "      <td>NaN</td>\n",
       "    </tr>\n",
       "    <tr>\n",
       "      <th>1</th>\n",
       "      <td>&lt;html lang=\"en\"&gt;</td>\n",
       "      <td>NaN</td>\n",
       "      <td>NaN</td>\n",
       "      <td>NaN</td>\n",
       "      <td>NaN</td>\n",
       "      <td>NaN</td>\n",
       "      <td>NaN</td>\n",
       "      <td>NaN</td>\n",
       "      <td>NaN</td>\n",
       "    </tr>\n",
       "    <tr>\n",
       "      <th>2</th>\n",
       "      <td>&lt;head&gt;</td>\n",
       "      <td>NaN</td>\n",
       "      <td>NaN</td>\n",
       "      <td>NaN</td>\n",
       "      <td>NaN</td>\n",
       "      <td>NaN</td>\n",
       "      <td>NaN</td>\n",
       "      <td>NaN</td>\n",
       "      <td>NaN</td>\n",
       "    </tr>\n",
       "    <tr>\n",
       "      <th>3</th>\n",
       "      <td>&lt;meta charset=\"utf-8\"&gt;</td>\n",
       "      <td>NaN</td>\n",
       "      <td>NaN</td>\n",
       "      <td>NaN</td>\n",
       "      <td>NaN</td>\n",
       "      <td>NaN</td>\n",
       "      <td>NaN</td>\n",
       "      <td>NaN</td>\n",
       "      <td>NaN</td>\n",
       "    </tr>\n",
       "    <tr>\n",
       "      <th>4</th>\n",
       "      <td>&lt;meta http-equiv=\"X-UA-Compatible\" con...</td>\n",
       "      <td>NaN</td>\n",
       "      <td>NaN</td>\n",
       "      <td>NaN</td>\n",
       "      <td>NaN</td>\n",
       "      <td>NaN</td>\n",
       "      <td>NaN</td>\n",
       "      <td>NaN</td>\n",
       "      <td>NaN</td>\n",
       "    </tr>\n",
       "  </tbody>\n",
       "</table>\n",
       "</div>"
      ],
      "text/plain": [
       "                                            pregnant glucose  bp  skin  \\\n",
       "0                                    <!DOCTYPE html>     NaN NaN   NaN   \n",
       "1                                   <html lang=\"en\">     NaN NaN   NaN   \n",
       "2                                             <head>     NaN NaN   NaN   \n",
       "3                             <meta charset=\"utf-8\">     NaN NaN   NaN   \n",
       "4          <meta http-equiv=\"X-UA-Compatible\" con...     NaN NaN   NaN   \n",
       "\n",
       "   insulin  bmi  pedigree  age  label  \n",
       "0      NaN  NaN       NaN  NaN    NaN  \n",
       "1      NaN  NaN       NaN  NaN    NaN  \n",
       "2      NaN  NaN       NaN  NaN    NaN  \n",
       "3      NaN  NaN       NaN  NaN    NaN  \n",
       "4      NaN  NaN       NaN  NaN    NaN  "
      ]
     },
     "execution_count": 3,
     "metadata": {},
     "output_type": "execute_result"
    }
   ],
   "source": [
    "df.head()"
   ]
  },
  {
   "cell_type": "code",
   "execution_count": null,
   "metadata": {
    "executionInfo": {
     "elapsed": 1077,
     "status": "ok",
     "timestamp": 1617384677744,
     "user": {
      "displayName": "Rohindh R",
      "photoUrl": "https://lh3.googleusercontent.com/a-/AOh14Gjl5IxCapIXaw6ej8DKrFGMmXStnbvlPcs_VxASBw=s64",
      "userId": "04332029639624835530"
     },
     "user_tz": -330
    },
    "id": "XvwNRPSYnjE6"
   },
   "outputs": [],
   "source": [
    "#split dataset in features and target variable\n",
    "feature_cols = ['pregnant', 'insulin', 'bmi', 'age','skin','glucose','bp','pedigree']\n",
    "X = df[feature_cols] # Features\n",
    "Y = df.label # Target variable"
   ]
  },
  {
   "cell_type": "code",
   "execution_count": null,
   "metadata": {
    "executionInfo": {
     "elapsed": 1222,
     "status": "ok",
     "timestamp": 1617384679532,
     "user": {
      "displayName": "Rohindh R",
      "photoUrl": "https://lh3.googleusercontent.com/a-/AOh14Gjl5IxCapIXaw6ej8DKrFGMmXStnbvlPcs_VxASBw=s64",
      "userId": "04332029639624835530"
     },
     "user_tz": -330
    },
    "id": "WgFe3SZCnjE6"
   },
   "outputs": [],
   "source": [
    "# Split dataset into training set and test set - 70% training and 30% test\n",
    "X_train, X_test, Y_train, Y_test = train_test_split(X, Y, test_size=0.3, random_state=1)"
   ]
  },
  {
   "cell_type": "code",
   "execution_count": null,
   "metadata": {
    "executionInfo": {
     "elapsed": 747,
     "status": "ok",
     "timestamp": 1617384680730,
     "user": {
      "displayName": "Rohindh R",
      "photoUrl": "https://lh3.googleusercontent.com/a-/AOh14Gjl5IxCapIXaw6ej8DKrFGMmXStnbvlPcs_VxASBw=s64",
      "userId": "04332029639624835530"
     },
     "user_tz": -330
    },
    "id": "x-ThuQM3njE6"
   },
   "outputs": [],
   "source": [
    "# Create Decision Tree classifer object\n",
    "clf = DecisionTreeClassifier(criterion=\"entropy\", max_depth=3)"
   ]
  },
  {
   "cell_type": "code",
   "execution_count": null,
   "metadata": {
    "executionInfo": {
     "elapsed": 1118,
     "status": "ok",
     "timestamp": 1617384682571,
     "user": {
      "displayName": "Rohindh R",
      "photoUrl": "https://lh3.googleusercontent.com/a-/AOh14Gjl5IxCapIXaw6ej8DKrFGMmXStnbvlPcs_VxASBw=s64",
      "userId": "04332029639624835530"
     },
     "user_tz": -330
    },
    "id": "DWdNF3cbnjE7"
   },
   "outputs": [],
   "source": [
    "\n",
    "clf = clf.fit(X_train,Y_train)"
   ]
  },
  {
   "cell_type": "code",
   "execution_count": null,
   "metadata": {
    "executionInfo": {
     "elapsed": 1145,
     "status": "ok",
     "timestamp": 1617384684221,
     "user": {
      "displayName": "Rohindh R",
      "photoUrl": "https://lh3.googleusercontent.com/a-/AOh14Gjl5IxCapIXaw6ej8DKrFGMmXStnbvlPcs_VxASBw=s64",
      "userId": "04332029639624835530"
     },
     "user_tz": -330
    },
    "id": "5Q72cQAonjE7"
   },
   "outputs": [],
   "source": [
    "#Predict the response for test dataset\n",
    "Y_pred = clf.predict(X_test)"
   ]
  },
  {
   "cell_type": "code",
   "execution_count": null,
   "metadata": {
    "colab": {
     "base_uri": "https://localhost:8080/"
    },
    "executionInfo": {
     "elapsed": 1285,
     "status": "ok",
     "timestamp": 1617384685810,
     "user": {
      "displayName": "Rohindh R",
      "photoUrl": "https://lh3.googleusercontent.com/a-/AOh14Gjl5IxCapIXaw6ej8DKrFGMmXStnbvlPcs_VxASBw=s64",
      "userId": "04332029639624835530"
     },
     "user_tz": -330
    },
    "id": "L4MfNYNxnjE7",
    "outputId": "7e0d56b3-cc01-4fe7-c12c-06d917faaf82"
   },
   "outputs": [],
   "source": [
    "print(Y_pred)"
   ]
  },
  {
   "cell_type": "code",
   "execution_count": null,
   "metadata": {
    "colab": {
     "base_uri": "https://localhost:8080/"
    },
    "executionInfo": {
     "elapsed": 1278,
     "status": "ok",
     "timestamp": 1617384687494,
     "user": {
      "displayName": "Rohindh R",
      "photoUrl": "https://lh3.googleusercontent.com/a-/AOh14Gjl5IxCapIXaw6ej8DKrFGMmXStnbvlPcs_VxASBw=s64",
      "userId": "04332029639624835530"
     },
     "user_tz": -330
    },
    "id": "axTZTIE2njE7",
    "outputId": "c323a8f7-7da6-4627-c2be-0308184c9967"
   },
   "outputs": [],
   "source": [
    "# Model Accuracy\n",
    "print(\"Accuracy:\",metrics.accuracy_score(Y_test, Y_pred))"
   ]
  },
  {
   "cell_type": "markdown",
   "metadata": {
    "id": "TzDOMTphnjE8"
   },
   "source": [
    "pip install graphviz"
   ]
  },
  {
   "cell_type": "markdown",
   "metadata": {
    "id": "yruoLDNrnjE8"
   },
   "source": [
    "pip install pydotplus"
   ]
  },
  {
   "cell_type": "code",
   "execution_count": null,
   "metadata": {
    "colab": {
     "base_uri": "https://localhost:8080/",
     "height": 592
    },
    "executionInfo": {
     "elapsed": 2437,
     "status": "ok",
     "timestamp": 1617384691667,
     "user": {
      "displayName": "Rohindh R",
      "photoUrl": "https://lh3.googleusercontent.com/a-/AOh14Gjl5IxCapIXaw6ej8DKrFGMmXStnbvlPcs_VxASBw=s64",
      "userId": "04332029639624835530"
     },
     "user_tz": -330
    },
    "id": "JJrVM-yGnjE8",
    "outputId": "0380e232-2a8b-4191-e3ae-ae07c807eb15"
   },
   "outputs": [],
   "source": [
    "from six import StringIO  \n",
    "from IPython.display import Image  \n",
    "from sklearn.tree import export_graphviz\n",
    "import pydotplus\n",
    "dot_data = StringIO()\n",
    "export_graphviz(clf, out_file=dot_data,  \n",
    "                filled=True, rounded=True,\n",
    "                special_characters=True, feature_names = feature_cols,class_names=['0','1'])\n",
    "graph = pydotplus.graph_from_dot_data(dot_data.getvalue())  \n",
    "graph.write_png('diabetes.png')\n",
    "Image(graph.create_png())\n"
   ]
  },
  {
   "cell_type": "code",
   "execution_count": null,
   "metadata": {
    "executionInfo": {
     "elapsed": 859,
     "status": "ok",
     "timestamp": 1617384695601,
     "user": {
      "displayName": "Rohindh R",
      "photoUrl": "https://lh3.googleusercontent.com/a-/AOh14Gjl5IxCapIXaw6ej8DKrFGMmXStnbvlPcs_VxASBw=s64",
      "userId": "04332029639624835530"
     },
     "user_tz": -330
    },
    "id": "G7VJxe6fnjE9"
   },
   "outputs": [],
   "source": []
  }
 ],
 "metadata": {
  "colab": {
   "name": "LAB6_DT_Classification(18BCS078 - Rohindh)",
   "provenance": []
  },
  "kernelspec": {
   "display_name": "Python 3",
   "language": "python",
   "name": "python3"
  },
  "language_info": {
   "codemirror_mode": {
    "name": "ipython",
    "version": 3
   },
   "file_extension": ".py",
   "mimetype": "text/x-python",
   "name": "python",
   "nbconvert_exporter": "python",
   "pygments_lexer": "ipython3",
   "version": "3.8.5"
  }
 },
 "nbformat": 4,
 "nbformat_minor": 1
}
